{
 "cells": [
  {
   "cell_type": "markdown",
   "metadata": {},
   "source": [
    "# Preprocessing FCS files\n",
    "Scyan uses anndata to gather data. We provide this notebook for users that doesn't use anndata.\n",
    "We will see how to:\n",
    "1. Read a FCS file and convert it into an AnnData instance using scyan\n",
    "2. Preprocess the created AnnData instance so that it can be used by a Scyan model"
   ]
  },
  {
   "cell_type": "code",
   "execution_count": null,
   "metadata": {},
   "outputs": [],
   "source": [
    "import numpy as np\n",
    "import scanpy as sc\n",
    "import scyan"
   ]
  },
  {
   "cell_type": "markdown",
   "metadata": {},
   "source": [
    "# Reading a FCS file\n",
    "Choose which FCS you want to read"
   ]
  },
  {
   "cell_type": "code",
   "execution_count": null,
   "metadata": {},
   "outputs": [],
   "source": [
    "fcs_path = \"/../<file>.fcs\"\n",
    "\n",
    "adata = scyan.utils.read_fcs(fcs_path)"
   ]
  },
  {
   "cell_type": "markdown",
   "metadata": {},
   "source": [
    "## Preprocessing\n",
    "\n",
    "Transform your data using arcsinh, logicle functions, or others. It's up to you to choose the right transformation, even though we advice to use asinh for mass and logicle for spectral."
   ]
  },
  {
   "cell_type": "code",
   "execution_count": null,
   "metadata": {},
   "outputs": [],
   "source": [
    "adata.X = np.arcsinh((adata.X - 1)/5)"
   ]
  },
  {
   "cell_type": "markdown",
   "metadata": {},
   "source": [
    "Scale your data"
   ]
  },
  {
   "cell_type": "code",
   "execution_count": null,
   "metadata": {},
   "outputs": [],
   "source": [
    "sc.pp.scale(adata, max_value=10)"
   ]
  },
  {
   "cell_type": "markdown",
   "metadata": {},
   "source": [
    "Ant that's it! You can use `adata` with scyan. You can also save the file using `adata.write_h5ad(...)` to reuse it latter."
   ]
  }
 ],
 "metadata": {
  "interpreter": {
   "hash": "cc58f990201d31b6ee8e9277972be5f50b649a79c681341472d6d29fa726ac8d"
  },
  "kernelspec": {
   "display_name": "Python 3.9.7 ('bio')",
   "language": "python",
   "name": "python3"
  },
  "language_info": {
   "codemirror_mode": {
    "name": "ipython",
    "version": 3
   },
   "file_extension": ".py",
   "mimetype": "text/x-python",
   "name": "python",
   "nbconvert_exporter": "python",
   "pygments_lexer": "ipython3",
   "version": "3.9.7"
  },
  "orig_nbformat": 4
 },
 "nbformat": 4,
 "nbformat_minor": 2
}
