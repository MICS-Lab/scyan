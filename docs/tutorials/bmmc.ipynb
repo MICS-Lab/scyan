{
 "cells": [
  {
   "cell_type": "markdown",
   "metadata": {},
   "source": [
    "# Usage on BMMC"
   ]
  },
  {
   "cell_type": "markdown",
   "metadata": {},
   "source": []
  }
 ],
 "metadata": {
  "kernelspec": {
   "display_name": "Python 3.9.7 ('scyan-5lsXrWE1-py3.9')",
   "language": "python",
   "name": "python3"
  },
  "language_info": {
   "name": "python",
   "version": "3.9.7"
  },
  "orig_nbformat": 4,
  "vscode": {
   "interpreter": {
    "hash": "012c56802600048b57e0c4332009a32433bb12fbf6532686c4bcccd14306ea3b"
   }
  }
 },
 "nbformat": 4,
 "nbformat_minor": 2
}
