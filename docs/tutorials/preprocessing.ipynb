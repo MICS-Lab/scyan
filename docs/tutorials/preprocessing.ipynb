{
  "cells": [
    {
      "attachments": {},
      "cell_type": "markdown",
      "metadata": {},
      "source": [
        "# Preprocessing\n",
        "\n",
        "This tutorial helps you preprocessing your raw data so that you can run `Scyan` afterwards.\n",
        "\n",
        "You'll learn how to:\n",
        "- Create an `adata` object based on a FCS (or CSV) file and preprocess it.\n",
        "- Create the knowledge table required for the annotation.\n",
        "- (Optional) Compute a UMAP and save your dataset for later use.\n",
        "\n",
        "Before continuing, make sure you have already [installed scyan](../../getting_started)."
      ]
    },
    {
      "cell_type": "code",
      "execution_count": 1,
      "metadata": {},
      "outputs": [
        {
          "name": "stderr",
          "output_type": "stream",
          "text": [
            "Global seed set to 0\n"
          ]
        }
      ],
      "source": [
        "import scyan"
      ]
    },
    {
      "attachments": {},
      "cell_type": "markdown",
      "metadata": {},
      "source": [
        "## 1. Creation of an `AnnData` object for your cytometry data\n",
        "\n",
        "Consider reading the [anndata documentation](https://anndata.readthedocs.io/en/latest/) if you have never heard about `anndata` before (it's a nice library for handling single-cell data).\n",
        "\n",
        "<div class=\"admonition note\">\n",
        "    <p class=\"admonition-title\">Note</p>\n",
        "    <p>\n",
        "        Make sure you only take the population of interest. E.g., if you are interested into immune cells, consider providing only the live cells that are CD45+. If not possible, continue the tutorial, but consider running Scyan for filtering these cells before annotating the populations.\n",
        "    </p>\n",
        "</div>\n",
        "\n",
        "### a) Loading a `FCS` or `CSV` file\n",
        "\n",
        "You probably have `.fcs` or `.csv` files that you want to load. For this, you can use [`scyan.read_fcs`](../../api/io/#scyan.read_fcs) or [`scyan.read_csv`](../../api/io/#scyan.read_csv)."
      ]
    },
    {
      "cell_type": "code",
      "execution_count": 7,
      "metadata": {},
      "outputs": [
        {
          "name": "stdout",
          "output_type": "stream",
          "text": [
            "Created anndata object with 216331 cells and 42 markers.\n",
            "\n",
            "-> The markers names are: epcam, CD4, CD38, CD1a, CD24, CD123, CD47, CD39, CD31, CD169, CCR7, CD44, CD141, CD1c, CD9, HLADQ, CD11b, CD103, CD3/16/9/20, CD366, PD1, CD21, CD127, GP38, CD14, CD45, CD206, CTLA4, CD207, CD223, PDL1, CD69, CD25, Siglec10, HLADR, FOLR2, CADM1, CD45RA, CD5, Via dye, CD88, CD8\n",
            "-> The non-marker names are: Time, SSC-H, SSC-A, FSC-H, FSC-A, SSC-B-H, SSC-B-A, AF-A\n"
          ]
        }
      ],
      "source": [
        "# If you have a FCS file\n",
        "adata = scyan.read_fcs(\"<path-to-fcs>.fcs\")\n",
        "\n",
        "# If you have a CSV file\n",
        "adata = scyan.read_csv(\"<path-to-csv>.csv\")\n",
        "\n",
        "print(f\"Created anndata object with {adata.n_obs} cells and {adata.n_vars} markers.\\n\\n-> The markers names are: {', '.join(adata.var_names)}\\n-> The non-marker names are: {', '.join(adata.obs.columns)}\")"
      ]
    },
    {
      "attachments": {},
      "cell_type": "markdown",
      "metadata": {},
      "source": [
        "### b) Sanity check\n",
        "\n",
        "Make sure that the listed markers (i.e., `adata.var_names`) contains only protein markers, and that every other variable is inside `adata.obs`. If this is not the case, consider reading [`scyan.read_fcs`](../../api/io/#scyan.read_fcs) or [`scyan.read_csv`](../../api/io/#scyan.read_csv) for more advanced usage (e.g., you can update `marker_regex=\"^cd|^hla|epcam|^ccr\"` to target all your markers).\n",
        "\n",
        "### c) Concatenate your data (optional)\n",
        "\n",
        "If you have multiple `FCS`, consider [concatenating your data](https://anndata.readthedocs.io/en/latest/generated/anndata.concat.html). We advise to add a observation column such as \"batch\" or \"patient_id\" to keep the information about the batch / patient ID.\n",
        "\n",
        "<details class=\"tip\">\n",
        "    <summary>Click to show an example</summary>\n",
        "    <p>This short script will concatenate all the FCS inside a specific folder, and save each file name into <code>adata.obs[\"file\"]</code> so that we don't loose information. You can add additional information, e.g. in <code>adata.obs[\"batch\"]</code> if you have different batches.</p>\n",
        "    <div class=\"highlight\"><pre><span></span><code><a id=\"__codelineno-6-1\" name=\"__codelineno-6-1\" href=\"#__codelineno-6-1\"></a><span class=\"kn\">import</span> <span class=\"nn\">anndata</span>\n",
        "<a id=\"__codelineno-6-2\" name=\"__codelineno-6-2\" href=\"#__codelineno-6-2\"></a><span class=\"kn\">from</span> <span class=\"nn\">pathlib</span> <span class=\"kn\">import</span> <span class=\"n\">Path</span>\n",
        "<a id=\"__codelineno-6-3\" name=\"__codelineno-6-3\" href=\"#__codelineno-6-3\"></a>\n",
        "<a id=\"__codelineno-6-4\" name=\"__codelineno-6-4\" href=\"#__codelineno-6-4\"></a><span class=\"n\">folder_path</span> <span class=\"o\">=</span> <span class=\"n\">Path</span><span class=\"p\">(</span><span class=\"s2\">&quot;.&quot;</span><span class=\"p\">)</span> <span class=\"c1\"># Replace &quot;.&quot; by the path to your folder containing FCS files</span>\n",
        "<a id=\"__codelineno-6-5\" name=\"__codelineno-6-5\" href=\"#__codelineno-6-5\"></a><span class=\"n\">fcs_paths</span> <span class=\"o\">=</span> <span class=\"p\">[</span><span class=\"n\">path</span> <span class=\"k\">for</span> <span class=\"n\">path</span> <span class=\"ow\">in</span> <span class=\"n\">folder_path</span><span class=\"o\">.</span><span class=\"n\">iterdir</span><span class=\"p\">()</span> <span class=\"k\">if</span> <span class=\"n\">path</span><span class=\"o\">.</span><span class=\"n\">suffix</span> <span class=\"o\">==</span> <span class=\"s2\">&quot;.fcs&quot;</span><span class=\"p\">]</span>\n",
        "<a id=\"__codelineno-6-6\" name=\"__codelineno-6-6\" href=\"#__codelineno-6-6\"></a>\n",
        "<a id=\"__codelineno-6-7\" name=\"__codelineno-6-7\" href=\"#__codelineno-6-7\"></a><span class=\"k\">def</span> <span class=\"nf\">read_one</span><span class=\"p\">(</span><span class=\"n\">path</span><span class=\"p\">):</span>\n",
        "<a id=\"__codelineno-6-8\" name=\"__codelineno-6-8\" href=\"#__codelineno-6-8\"></a>    <span class=\"n\">adata</span> <span class=\"o\">=</span> <span class=\"n\">scyan</span><span class=\"o\">.</span><span class=\"n\">read_fcs</span><span class=\"p\">(</span><span class=\"n\">path</span><span class=\"p\">)</span>\n",
        "<a id=\"__codelineno-6-9\" name=\"__codelineno-6-9\" href=\"#__codelineno-6-9\"></a>    <span class=\"n\">adata</span><span class=\"o\">.</span><span class=\"n\">obs</span><span class=\"p\">[</span><span class=\"s2\">&quot;file&quot;</span><span class=\"p\">]</span> <span class=\"o\">=</span> <span class=\"n\">path</span><span class=\"o\">.</span><span class=\"n\">stem</span>\n",
        "<a id=\"__codelineno-6-10\" name=\"__codelineno-6-10\" href=\"#__codelineno-6-10\"></a>    <span class=\"n\">adata</span><span class=\"o\">.</span><span class=\"n\">obs</span><span class=\"p\">[</span><span class=\"s2\">&quot;batch&quot;</span><span class=\"p\">]</span> <span class=\"o\">=</span> <span class=\"s2\">&quot;NA&quot;</span> <span class=\"c1\"># If you have batches, add here the batch of the corresponding path</span>\n",
        "<a id=\"__codelineno-6-11\" name=\"__codelineno-6-11\" href=\"#__codelineno-6-11\"></a>    <span class=\"k\">return</span> <span class=\"n\">adata</span>\n",
        "<a id=\"__codelineno-6-12\" name=\"__codelineno-6-12\" href=\"#__codelineno-6-12\"></a>\n",
        "<a id=\"__codelineno-6-13\" name=\"__codelineno-6-13\" href=\"#__codelineno-6-13\"></a><span class=\"n\">adata</span> <span class=\"o\">=</span> <span class=\"n\">anndata</span><span class=\"o\">.</span><span class=\"n\">concat</span><span class=\"p\">([</span><span class=\"n\">read_one</span><span class=\"p\">(</span><span class=\"n\">p</span><span class=\"p\">)</span> <span class=\"k\">for</span> <span class=\"n\">p</span> <span class=\"ow\">in</span> <span class=\"n\">fcs_paths</span><span class=\"p\">],</span> <span class=\"n\">index_unique</span><span class=\"o\">=</span><span class=\"s2\">&quot;-&quot;</span><span class=\"p\">)</span>\n",
        "</code></pre></div>\n",
        "</details>"
      ]
    },
    {
      "attachments": {},
      "cell_type": "markdown",
      "metadata": {},
      "source": [
        "### d) Preprocessing\n",
        "\n",
        "Choose either the `asinh` or `logicle` transformation below, and scale your data."
      ]
    },
    {
      "cell_type": "code",
      "execution_count": 4,
      "metadata": {},
      "outputs": [],
      "source": [
        "is_cytof = True\n",
        "\n",
        "if is_cytof: # we recommend asinh for CyTOF data\n",
        "    scyan.preprocess.asinh_transform(adata)\n",
        "else: # we recommend auto_logicle for flow or spectral flow\n",
        "    scyan.preprocess.auto_logicle_transform(adata)\n",
        "\n",
        "scyan.preprocess.scale(adata)"
      ]
    },
    {
      "attachments": {},
      "cell_type": "markdown",
      "metadata": {},
      "source": [
        "## 2. Creation of the knowledge table\n",
        "\n",
        "<div class=\"admonition note\">\n",
        "    <p class=\"admonition-title\">Note</p>\n",
        "    <p>\n",
        "        Some existing tables can be found <a href=\"https://github.com/MICS-Lab/scyan_data/blob/main/public_tables.md\">here</a>. It could help you making your table.\n",
        "    </p>\n",
        "</div>\n",
        "\n",
        "The knowledge table contains well-known marker expressions per population. For instance, if you want `Scyan` to annotate CD4 T cells, you have to tell which markers CD4 T cells are supposed to express or not. Depending on your panel, it may be CD4+, CD8-, CD45+, CD3+, etc. Values inside the table can be:\n",
        "\n",
        "- `-1` for negative expressions.\n",
        "- `1` for positive expressions.\n",
        "- `NA` when you don't know or if it is not applicable (if you use a CSV, you can also let the field empty, it will be read as `NaN` by `pandas`).\n",
        "- Some float values such as `0` or `-0.5` for mid and low expressions respectively (use it only when necessary).\n",
        "\n",
        "Each row corresponds to one population, and each column corresponds to one marker (i.e., one of `adata.var_names`).\n",
        "\n",
        "You can either directly create a `csv`, or use Excel and export the table as `csv`. Then, you can then import the `csv` to make a pandas `DataFrame`.\n",
        "\n",
        "### Example"
      ]
    },
    {
      "cell_type": "code",
      "execution_count": 5,
      "metadata": {},
      "outputs": [],
      "source": [
        "import pandas as pd"
      ]
    },
    {
      "cell_type": "code",
      "execution_count": 6,
      "metadata": {},
      "outputs": [],
      "source": [
        "table = pd.read_csv(\"<path-to-csv>.csv\", index_col=0)"
      ]
    },
    {
      "cell_type": "code",
      "execution_count": 7,
      "metadata": {},
      "outputs": [
        {
          "data": {
            "text/html": [
              "<div>\n",
              "<style scoped>\n",
              "    .dataframe tbody tr th:only-of-type {\n",
              "        vertical-align: middle;\n",
              "    }\n",
              "\n",
              "    .dataframe tbody tr th {\n",
              "        vertical-align: top;\n",
              "    }\n",
              "\n",
              "    .dataframe thead th {\n",
              "        text-align: right;\n",
              "    }\n",
              "</style>\n",
              "<table border=\"1\" class=\"dataframe\">\n",
              "  <thead>\n",
              "    <tr style=\"text-align: right;\">\n",
              "      <th></th>\n",
              "      <th>CD19</th>\n",
              "      <th>CD4</th>\n",
              "      <th>CD8</th>\n",
              "      <th>CD34</th>\n",
              "      <th>CD20</th>\n",
              "      <th>CD45</th>\n",
              "      <th>CD123</th>\n",
              "      <th>CD11c</th>\n",
              "      <th>CD7</th>\n",
              "      <th>CD16</th>\n",
              "      <th>CD38</th>\n",
              "      <th>CD3</th>\n",
              "      <th>HLA-DR</th>\n",
              "      <th>CD64</th>\n",
              "    </tr>\n",
              "    <tr>\n",
              "      <th>Populations</th>\n",
              "      <th></th>\n",
              "      <th></th>\n",
              "      <th></th>\n",
              "      <th></th>\n",
              "      <th></th>\n",
              "      <th></th>\n",
              "      <th></th>\n",
              "      <th></th>\n",
              "      <th></th>\n",
              "      <th></th>\n",
              "      <th></th>\n",
              "      <th></th>\n",
              "      <th></th>\n",
              "      <th></th>\n",
              "    </tr>\n",
              "  </thead>\n",
              "  <tbody>\n",
              "    <tr>\n",
              "      <th>Basophils</th>\n",
              "      <td>-1</td>\n",
              "      <td>NaN</td>\n",
              "      <td>-1.0</td>\n",
              "      <td>-1</td>\n",
              "      <td>-1.0</td>\n",
              "      <td>NaN</td>\n",
              "      <td>1</td>\n",
              "      <td>-1</td>\n",
              "      <td>-1.0</td>\n",
              "      <td>-1.0</td>\n",
              "      <td>NaN</td>\n",
              "      <td>-1</td>\n",
              "      <td>-1.0</td>\n",
              "      <td>-1.0</td>\n",
              "    </tr>\n",
              "    <tr>\n",
              "      <th>CD4 T cells</th>\n",
              "      <td>-1</td>\n",
              "      <td>1.0</td>\n",
              "      <td>-1.0</td>\n",
              "      <td>-1</td>\n",
              "      <td>-1.0</td>\n",
              "      <td>NaN</td>\n",
              "      <td>-1</td>\n",
              "      <td>-1</td>\n",
              "      <td>NaN</td>\n",
              "      <td>-1.0</td>\n",
              "      <td>NaN</td>\n",
              "      <td>1</td>\n",
              "      <td>-1.0</td>\n",
              "      <td>-1.0</td>\n",
              "    </tr>\n",
              "    <tr>\n",
              "      <th>CD8 T cells</th>\n",
              "      <td>-1</td>\n",
              "      <td>-1.0</td>\n",
              "      <td>1.0</td>\n",
              "      <td>-1</td>\n",
              "      <td>-1.0</td>\n",
              "      <td>NaN</td>\n",
              "      <td>-1</td>\n",
              "      <td>-1</td>\n",
              "      <td>1.0</td>\n",
              "      <td>-1.0</td>\n",
              "      <td>NaN</td>\n",
              "      <td>1</td>\n",
              "      <td>-1.0</td>\n",
              "      <td>-1.0</td>\n",
              "    </tr>\n",
              "    <tr>\n",
              "      <th>CD16- NK cells</th>\n",
              "      <td>-1</td>\n",
              "      <td>NaN</td>\n",
              "      <td>NaN</td>\n",
              "      <td>-1</td>\n",
              "      <td>-1.0</td>\n",
              "      <td>NaN</td>\n",
              "      <td>-1</td>\n",
              "      <td>-1</td>\n",
              "      <td>1.0</td>\n",
              "      <td>-1.0</td>\n",
              "      <td>NaN</td>\n",
              "      <td>-1</td>\n",
              "      <td>-1.0</td>\n",
              "      <td>-1.0</td>\n",
              "    </tr>\n",
              "    <tr>\n",
              "      <th>CD16+ NK cells</th>\n",
              "      <td>-1</td>\n",
              "      <td>NaN</td>\n",
              "      <td>NaN</td>\n",
              "      <td>-1</td>\n",
              "      <td>NaN</td>\n",
              "      <td>NaN</td>\n",
              "      <td>-1</td>\n",
              "      <td>-1</td>\n",
              "      <td>1.0</td>\n",
              "      <td>1.0</td>\n",
              "      <td>NaN</td>\n",
              "      <td>-1</td>\n",
              "      <td>-1.0</td>\n",
              "      <td>-1.0</td>\n",
              "    </tr>\n",
              "  </tbody>\n",
              "</table>\n",
              "</div>"
            ],
            "text/plain": [
              "                CD19  CD4  CD8  CD34  CD20  CD45  CD123  CD11c  CD7  CD16  \\\n",
              "Populations                                                                 \n",
              "Basophils         -1  NaN -1.0    -1  -1.0   NaN      1     -1 -1.0  -1.0   \n",
              "CD4 T cells       -1  1.0 -1.0    -1  -1.0   NaN     -1     -1  NaN  -1.0   \n",
              "CD8 T cells       -1 -1.0  1.0    -1  -1.0   NaN     -1     -1  1.0  -1.0   \n",
              "CD16- NK cells    -1  NaN  NaN    -1  -1.0   NaN     -1     -1  1.0  -1.0   \n",
              "CD16+ NK cells    -1  NaN  NaN    -1   NaN   NaN     -1     -1  1.0   1.0   \n",
              "\n",
              "                CD38  CD3  HLA-DR  CD64  \n",
              "Populations                              \n",
              "Basophils        NaN   -1    -1.0  -1.0  \n",
              "CD4 T cells      NaN    1    -1.0  -1.0  \n",
              "CD8 T cells      NaN    1    -1.0  -1.0  \n",
              "CD16- NK cells   NaN   -1    -1.0  -1.0  \n",
              "CD16+ NK cells   NaN   -1    -1.0  -1.0  "
            ]
          },
          "execution_count": 8,
          "metadata": {},
          "output_type": "execute_result"
        }
      ],
      "source": [
        "table.head() # Display the first 5 rows of the table"
      ]
    },
    {
      "attachments": {},
      "cell_type": "markdown",
      "metadata": {},
      "source": [
        "You can see our [advices](../../advice) when creating this table.\n",
        "\n",
        "### Sanity check\n",
        "\n",
        "Make sure `table.index` contains population names, and that `table.columns` contains existing marker names (i.e., included in `adata.var_names`).\n",
        "> NB: the table index can be a `MultiIndex` to list hierarchical populations, and the first level should correspond to the most precise populations (see [how to work with hierarchical populations](../usage/#working-with-hierarchical-populations))."
      ]
    },
    {
      "attachments": {},
      "cell_type": "markdown",
      "metadata": {},
      "source": [
        "## 3. (Optional) Compute a UMAP\n",
        "You can compute the UMAP coordinates using [`scyan.tools.umap`](../../api/representation/#scyan.tools.umap). The API will guide you for the usage of this tool: especially, you can choose to compute the UMAP on a specific set of markers, or choose a subset of cells on which computing the UMAP (for acceleration).\n",
        "\n",
        "> Note that it only computes the coordinates, then you'll have to use [`scyan.plot.umap`](../../api/plots/#scyan.plot.umap) to display it."
      ]
    },
    {
      "cell_type": "code",
      "execution_count": null,
      "metadata": {},
      "outputs": [],
      "source": [
        "# Option 1: Use all markers to compute the UMAP\n",
        "scyan.tools.umap(adata)\n",
        "\n",
        "# Option 2: Use only the cell-type markers (recommended), or your choose your own list of markers\n",
        "scyan.tools.umap(adata, markers=table.columns)"
      ]
    },
    {
      "attachments": {},
      "cell_type": "markdown",
      "metadata": {},
      "source": [
        "## 4. (Optional) Save your data for later use\n",
        "\n",
        "You can use [scyan.data.add](../../api/datasets/#scyan.data.add) to save your data."
      ]
    },
    {
      "cell_type": "code",
      "execution_count": 9,
      "metadata": {},
      "outputs": [
        {
          "name": "stderr",
          "output_type": "stream",
          "text": [
            "INFO:scyan.data.datasets:Creating new dataset folder at /.../your_project_name\n",
            "INFO:scyan.data.datasets:Created file /.../your_project_name/default.h5ad\n",
            "INFO:scyan.data.datasets:Created file /.../your_project_name/default.csv\n"
          ]
        }
      ],
      "source": [
        "scyan.data.add(\"your-project-name\", adata, table)"
      ]
    },
    {
      "attachments": {},
      "cell_type": "markdown",
      "metadata": {},
      "source": [
        "From now on, you can now simply load your processed data with [scyan.data.load](../../api/datasets/#scyan.data.load):"
      ]
    },
    {
      "cell_type": "code",
      "execution_count": 10,
      "metadata": {},
      "outputs": [],
      "source": [
        "adata, table = scyan.data.load(\"your-project-name\")"
      ]
    },
    {
      "attachments": {},
      "cell_type": "markdown",
      "metadata": {},
      "source": [
        "## Next steps\n",
        "Congratulations! You can now follow our tutorial on [model training and visualization](../../tutorials/usage)."
      ]
    }
  ],
  "metadata": {
    "kernelspec": {
      "display_name": "Python 3.9.13 ('bio')",
      "language": "python",
      "name": "python3"
    },
    "language_info": {
      "codemirror_mode": {
        "name": "ipython",
        "version": 3
      },
      "file_extension": ".py",
      "mimetype": "text/x-python",
      "name": "python",
      "nbconvert_exporter": "python",
      "pygments_lexer": "ipython3",
      "version": "3.9.13"
    },
    "orig_nbformat": 4,
    "vscode": {
      "interpreter": {
        "hash": "cc58f990201d31b6ee8e9277972be5f50b649a79c681341472d6d29fa726ac8d"
      }
    }
  },
  "nbformat": 4,
  "nbformat_minor": 2
}
